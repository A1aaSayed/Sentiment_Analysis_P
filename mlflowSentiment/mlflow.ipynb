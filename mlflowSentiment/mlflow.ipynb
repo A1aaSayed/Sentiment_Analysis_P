{
 "cells": [
  {
   "cell_type": "code",
   "execution_count": 10,
   "metadata": {},
   "outputs": [],
   "source": [
    "import mlflow\n",
    "import mlflow.sklearn\n",
    "import pandas as pd\n",
    "from sklearn.model_selection import train_test_split\n",
    "from sklearn.feature_extraction.text import TfidfVectorizer\n",
    "from sklearn.linear_model import LogisticRegression\n",
    "from sklearn.ensemble import RandomForestClassifier\n",
    "from sklearn.svm import SVC\n",
    "from sklearn.tree import DecisionTreeClassifier\n",
    "from sklearn.ensemble import RandomForestClassifier, AdaBoostClassifier\n",
    "from sklearn.metrics import classification_report, accuracy_score, confusion_matrix\n",
    "from sklearn.model_selection import GridSearchCV\n",
    "import os\n",
    "\n",
    "import warnings\n",
    "warnings.filterwarnings('ignore')"
   ]
  },
  {
   "cell_type": "code",
   "execution_count": 2,
   "metadata": {},
   "outputs": [],
   "source": [
    "df = pd.read_csv('cleaned_amazon_reviews.csv')\n",
    "tfidf = TfidfVectorizer(max_features=5000)\n",
    "X = tfidf.fit_transform(df['Cleaned_Review'])\n",
    "y = df['Sentiment']"
   ]
  },
  {
   "cell_type": "code",
   "execution_count": 3,
   "metadata": {},
   "outputs": [],
   "source": [
    "X_train, X_test, y_train, y_test = train_test_split(X, y, test_size=0.2, random_state=42 , shuffle=True)\n"
   ]
  },
  {
   "cell_type": "markdown",
   "metadata": {},
   "source": [
    "LogisticRegression"
   ]
  },
  {
   "cell_type": "code",
   "execution_count": 4,
   "metadata": {},
   "outputs": [],
   "source": [
    "learning_rate = 0.002\n",
    "epochs = 5"
   ]
  },
  {
   "cell_type": "code",
   "execution_count": 5,
   "metadata": {},
   "outputs": [
    {
     "name": "stderr",
     "output_type": "stream",
     "text": [
      "2024/10/15 17:26:30 INFO mlflow.tracking.fluent: Experiment with name 'Exp_new3' does not exist. Creating a new experiment.\n"
     ]
    },
    {
     "name": "stdout",
     "output_type": "stream",
     "text": [
      "Epoch 1/5 - Accuracy: 0.8423\n",
      "Epoch 2/5 - Accuracy: 0.8423\n",
      "Epoch 3/5 - Accuracy: 0.8423\n",
      "Epoch 4/5 - Accuracy: 0.8423\n",
      "Epoch 5/5 - Accuracy: 0.8423\n"
     ]
    }
   ],
   "source": [
    "mlflow.set_experiment(\"Exp_new3\")\n",
    "\n",
    "# Start an MLflow run\n",
    "with mlflow.start_run():\n",
    "    # Log hyperparameters\n",
    "    mlflow.log_param(\"learning_rate\", learning_rate)\n",
    "    mlflow.log_param(\"epochs\", epochs)\n",
    "    # mlflow.log_param(\"penalty\", penalty)\n",
    "\n",
    "    # Initialize and train the model\n",
    "    model = LogisticRegression( solver='liblinear', max_iter=100, warm_start=True)\n",
    "\n",
    "    for epoch in range(epochs):\n",
    "        model.fit(X_train, y_train)\n",
    "\n",
    "        # Predict and calculate accuracy\n",
    "        y_pred = model.predict(X_test)\n",
    "        accuracy = accuracy_score(y_test, y_pred)\n",
    "\n",
    "        # Log the accuracy as a metric\n",
    "        mlflow.log_metric(\"accuracy\", accuracy, step=epoch)\n",
    "        print(f\"Epoch {epoch+1}/{epochs} - Accuracy: {accuracy:.4f}\")\n",
    "\n",
    "    # Save the model as an artifact\n",
    "    model_filename = \"logistic_regression_modelv8.pkl\"\n",
    "    mlflow.sklearn.save_model(model, model_filename)\n",
    "\n",
    "    # Log the saved model as an artifact\n",
    "    mlflow.log_artifact(model_filename)\n"
   ]
  },
  {
   "cell_type": "markdown",
   "metadata": {},
   "source": [
    "SVC"
   ]
  },
  {
   "cell_type": "code",
   "execution_count": 6,
   "metadata": {},
   "outputs": [],
   "source": [
    "#SVC\n",
    "C = 1.0\n",
    "kernel = 'linear'"
   ]
  },
  {
   "cell_type": "code",
   "execution_count": 13,
   "metadata": {},
   "outputs": [
    {
     "name": "stdout",
     "output_type": "stream",
     "text": [
      "Epoch 1/5 - Accuracy: 0.6428\n",
      "Epoch 2/5 - Accuracy: 0.6428\n",
      "Epoch 3/5 - Accuracy: 0.6428\n",
      "Epoch 4/5 - Accuracy: 0.6428\n",
      "Epoch 5/5 - Accuracy: 0.6428\n"
     ]
    }
   ],
   "source": [
    "mlflow.set_experiment(\"Exp_new3\")\n",
    "\n",
    "with mlflow.start_run():\n",
    "    # Log hyperparameters\n",
    "    mlflow.log_param(\"C\", C)\n",
    "    mlflow.log_param(\"kernel\", kernel)\n",
    "    mlflow.log_param(\"epochs\", epochs)\n",
    "\n",
    "    # Initialize and train the SVM model\n",
    "    model = SVC(C=C, kernel=kernel, max_iter=100, probability=True)\n",
    "\n",
    "    for epoch in range(epochs):\n",
    "        model.fit(X_train, y_train)\n",
    "\n",
    "        # Predict and calculate accuracy\n",
    "        y_pred = model.predict(X_test)\n",
    "        accuracy = accuracy_score(y_test, y_pred)\n",
    "\n",
    "        # Log the accuracy as a metric\n",
    "        mlflow.log_metric(\"accuracy\", accuracy, step=epoch)\n",
    "        print(f\"Epoch {epoch+1}/{epochs} - Accuracy: {accuracy:.4f}\")\n",
    "\n",
    "    # Save the model as an artifact\n",
    "    model_filename = \"svm_modelv9.pkl\"\n",
    "    mlflow.sklearn.save_model(model, model_filename)\n",
    "\n",
    "    # Log the saved model as an artifact\n",
    "    mlflow.log_artifact(model_filename)\n"
   ]
  },
  {
   "cell_type": "code",
   "execution_count": null,
   "metadata": {},
   "outputs": [],
   "source": []
  },
  {
   "cell_type": "markdown",
   "metadata": {},
   "source": [
    "RandomForestClassifierSVC\n"
   ]
  },
  {
   "cell_type": "code",
   "execution_count": 12,
   "metadata": {},
   "outputs": [],
   "source": [
    "n_estimators = 200  \n",
    "max_depth = 10 "
   ]
  },
  {
   "cell_type": "code",
   "execution_count": 14,
   "metadata": {},
   "outputs": [
    {
     "name": "stdout",
     "output_type": "stream",
     "text": [
      "Epoch 1/5 - Accuracy: 0.7967\n",
      "Epoch 2/5 - Accuracy: 0.7977\n",
      "Epoch 3/5 - Accuracy: 0.8023\n",
      "Epoch 4/5 - Accuracy: 0.7943\n",
      "Epoch 5/5 - Accuracy: 0.8030\n"
     ]
    }
   ],
   "source": [
    "mlflow.set_experiment(\"Exp_new3\")\n",
    "\n",
    "with mlflow.start_run():\n",
    "    mlflow.log_param(\"n_estimators\", n_estimators)\n",
    "    mlflow.log_param(\"max_depth\", max_depth)\n",
    "    mlflow.log_param(\"epochs\", epochs)\n",
    "\n",
    "\n",
    "    model = RandomForestClassifier(n_estimators=n_estimators, max_depth=max_depth)\n",
    "\n",
    "    for epoch in range(epochs):\n",
    "        model.fit(X_train, y_train)\n",
    "\n",
    "        \n",
    "        y_pred = model.predict(X_test)\n",
    "        accuracy = accuracy_score(y_test, y_pred)\n",
    "\n",
    "    \n",
    "        mlflow.log_metric(\"accuracy\", accuracy, step=epoch)\n",
    "        print(f\"Epoch {epoch+1}/{epochs} - Accuracy: {accuracy:.4f}\")\n",
    "\n",
    "    \n",
    "    model_filename = \"random_forest_model.pkl\"\n",
    "    mlflow.sklearn.save_model(model, model_filename)\n",
    "\n",
    "\n",
    "    mlflow.log_artifact(model_filename)\n"
   ]
  },
  {
   "cell_type": "markdown",
   "metadata": {},
   "source": [
    "Decision Tree"
   ]
  },
  {
   "cell_type": "code",
   "execution_count": 15,
   "metadata": {},
   "outputs": [],
   "source": [
    "max_depth = 10  \n",
    "min_samples_split = 4 "
   ]
  },
  {
   "cell_type": "code",
   "execution_count": 16,
   "metadata": {},
   "outputs": [
    {
     "name": "stdout",
     "output_type": "stream",
     "text": [
      "Epoch 1/5 - Accuracy: 0.6765\n",
      "Epoch 2/5 - Accuracy: 0.6767\n",
      "Epoch 3/5 - Accuracy: 0.6775\n",
      "Epoch 4/5 - Accuracy: 0.6763\n",
      "Epoch 5/5 - Accuracy: 0.6767\n"
     ]
    }
   ],
   "source": [
    "mlflow.set_experiment(\"Exp_new3\")\n",
    "\n",
    "with mlflow.start_run():\n",
    "    # Log hyperparameters\n",
    "    mlflow.log_param(\"max_depth\", max_depth)\n",
    "    mlflow.log_param(\"min_samples_split\", min_samples_split)\n",
    "    mlflow.log_param(\"epochs\", epochs)\n",
    "\n",
    "    # Initialize and train the DecisionTree model\n",
    "    model = DecisionTreeClassifier(max_depth=max_depth, min_samples_split=min_samples_split)\n",
    "\n",
    "    for epoch in range(epochs):\n",
    "        model.fit(X_train, y_train)\n",
    "\n",
    "        # Predict and calculate accuracy\n",
    "        y_pred = model.predict(X_test)\n",
    "        accuracy = accuracy_score(y_test, y_pred)\n",
    "\n",
    "        # Log the accuracy as a metric\n",
    "        mlflow.log_metric(\"accuracy\", accuracy, step=epoch)\n",
    "        print(f\"Epoch {epoch+1}/{epochs} - Accuracy: {accuracy:.4f}\")\n",
    "\n",
    "    # Save the model as an artifact\n",
    "    model_filename = \"decision_tree_model.pkl\"\n",
    "    mlflow.sklearn.save_model(model, model_filename)\n",
    "\n",
    "    # Log the saved model as an artifact\n",
    "    mlflow.log_artifact(model_filename)\n"
   ]
  }
 ],
 "metadata": {
  "kernelspec": {
   "display_name": "base",
   "language": "python",
   "name": "python3"
  },
  "language_info": {
   "codemirror_mode": {
    "name": "ipython",
    "version": 3
   },
   "file_extension": ".py",
   "mimetype": "text/x-python",
   "name": "python",
   "nbconvert_exporter": "python",
   "pygments_lexer": "ipython3",
   "version": "3.11.5"
  }
 },
 "nbformat": 4,
 "nbformat_minor": 2
}
